{
 "cells": [
  {
   "cell_type": "code",
   "execution_count": null,
   "id": "36a9bac4-0651-41f5-8ef0-6b97c9c62fe2",
   "metadata": {},
   "outputs": [],
   "source": [
    "Exercise1: "
   ]
  },
  {
   "cell_type": "code",
   "execution_count": 4,
   "id": "68ef0c61-7035-410a-bd10-8e709b37d07f",
   "metadata": {},
   "outputs": [
    {
     "name": "stdout",
     "output_type": "stream",
     "text": [
      "Hello, Python!\n"
     ]
    }
   ],
   "source": [
    "print(\"Hello, Python!\")"
   ]
  },
  {
   "cell_type": "code",
   "execution_count": null,
   "id": "544391e9-c112-4459-8d54-07f758f7c4dd",
   "metadata": {},
   "outputs": [],
   "source": [
    "Exercise2: "
   ]
  },
  {
   "cell_type": "code",
   "execution_count": 6,
   "id": "a19feb26-7bd7-4970-b72f-ef10f6b10699",
   "metadata": {},
   "outputs": [
    {
     "name": "stdout",
     "output_type": "stream",
     "text": [
      "Sum: 15\n",
      "Difference: 5\n",
      "Product: 50\n",
      "Quotient: 2.0\n"
     ]
    }
   ],
   "source": [
    "a = 10 \n",
    "b = 5   \n",
    "\n",
    "print(\"Sum:\", a + b)\n",
    "print(\"Difference:\", a - b)\n",
    "print(\"Product:\", a * b)\n",
    "print(\"Quotient:\", a / b)"
   ]
  },
  {
   "cell_type": "code",
   "execution_count": null,
   "id": "33cb6ea5-bf57-4753-914a-b690d3cac7ba",
   "metadata": {},
   "outputs": [],
   "source": [
    "Exercise3: "
   ]
  },
  {
   "cell_type": "code",
   "execution_count": 8,
   "id": "3a1abee1-a2e8-4571-be3e-825f24d9e5b5",
   "metadata": {},
   "outputs": [
    {
     "name": "stdout",
     "output_type": "stream",
     "text": [
      "Hello, Xinyu Cui!\n"
     ]
    }
   ],
   "source": [
    "name = \"Xinyu Cui\"  \n",
    "print(f\"Hello, {name}!\")"
   ]
  },
  {
   "cell_type": "code",
   "execution_count": null,
   "id": "f80a0e2f-04b6-4670-9b37-657dbcdf21f5",
   "metadata": {},
   "outputs": [],
   "source": [
    "Exercise4: "
   ]
  },
  {
   "cell_type": "code",
   "execution_count": 10,
   "id": "79e80343-c229-49e4-ab8e-356602831e1f",
   "metadata": {},
   "outputs": [
    {
     "name": "stdout",
     "output_type": "stream",
     "text": [
      "List of Universities: ['Harvard', 'Stanford', 'MIT', 'Oxford', 'Cambridge']\n",
      "First University: Harvard\n",
      "Last University: Cambridge\n"
     ]
    }
   ],
   "source": [
    "universities = [\"Harvard\", \"Stanford\", \"MIT\", \"Oxford\", \"Cambridge\"]\n",
    "\n",
    "print(\"List of Universities:\", universities)\n",
    "\n",
    "print(\"First University:\", universities[0])\n",
    "print(\"Last University:\", universities[-1])\n"
   ]
  },
  {
   "cell_type": "code",
   "execution_count": null,
   "id": "86ac4466-8e36-4b6a-bd18-8ebf5540615a",
   "metadata": {},
   "outputs": [],
   "source": [
    "Exercise5: "
   ]
  },
  {
   "cell_type": "code",
   "execution_count": 12,
   "id": "fccdb487-ebbb-416b-a8a5-a6c21cf135d2",
   "metadata": {},
   "outputs": [
    {
     "name": "stdout",
     "output_type": "stream",
     "text": [
      "name: Xinyu Cui\n",
      "age: 20\n",
      "grade: A\n"
     ]
    }
   ],
   "source": [
    "student = {\n",
    "    \"name\": \"Xinyu Cui\", \n",
    "    \"age\": 20,          \n",
    "    \"grade\": \"A\"         \n",
    "}\n",
    "for key, value in student.items():\n",
    "    print(f\"{key}: {value}\")\n"
   ]
  },
  {
   "cell_type": "code",
   "execution_count": null,
   "id": "81872e54-84b0-4a91-86a4-6b20e9b5adb4",
   "metadata": {},
   "outputs": [],
   "source": [
    "Exercise6: "
   ]
  },
  {
   "cell_type": "code",
   "execution_count": 14,
   "id": "8b8eb82d-1a8a-4a1f-bd72-6d3e3b57ded7",
   "metadata": {},
   "outputs": [
    {
     "name": "stdout",
     "output_type": "stream",
     "text": [
      "Coordinates: (10, 20)\n",
      "x-coordinate: 10\n",
      "y-coordinate: 20\n"
     ]
    }
   ],
   "source": [
    "coordinates = (10, 20)  \n",
    "print(\"Coordinates:\", coordinates)\n",
    "print(\"x-coordinate:\", coordinates[0])\n",
    "print(\"y-coordinate:\", coordinates[1])"
   ]
  },
  {
   "cell_type": "code",
   "execution_count": null,
   "id": "800b72ea-39bd-4268-8b2d-0babc359c7d0",
   "metadata": {},
   "outputs": [],
   "source": [
    "Exercise7: "
   ]
  },
  {
   "cell_type": "code",
   "execution_count": 16,
   "id": "ef17f593-8dc0-43ba-b29b-8e0618143d65",
   "metadata": {},
   "outputs": [
    {
     "name": "stdout",
     "output_type": "stream",
     "text": [
      "Colors set: {'blue', 'green', 'yellow', 'red'}\n",
      "Colors set after removal: {'blue', 'yellow', 'red'}\n",
      "Merged set: {'blue', 'red', 'white', 'yellow', 'pink'}\n"
     ]
    }
   ],
   "source": [
    "colors = {\"red\", \"green\", \"blue\"}\n",
    "colors.add(\"yellow\")\n",
    "colors.add(\"red\")  \n",
    "print(\"Colors set:\", colors)\n",
    "\n",
    "colors.remove(\"green\")\n",
    "\n",
    "print(\"Colors set after removal:\", colors)\n",
    "light_colors = {\"white\", \"yellow\", \"pink\"}\n",
    "merged_colors = colors.union(light_colors)\n",
    "\n",
    "print(\"Merged set:\", merged_colors)"
   ]
  },
  {
   "cell_type": "code",
   "execution_count": null,
   "id": "21437c62-a0c1-4932-aa0c-ce458c131828",
   "metadata": {},
   "outputs": [],
   "source": [
    "Exercise8: "
   ]
  },
  {
   "cell_type": "code",
   "execution_count": 18,
   "id": "be5b0870-f1d1-462f-95fc-ac94a49f6ba8",
   "metadata": {},
   "outputs": [
    {
     "name": "stdin",
     "output_type": "stream",
     "text": [
      "Enter a number:  3\n"
     ]
    },
    {
     "name": "stdout",
     "output_type": "stream",
     "text": [
      "The number is positive.\n"
     ]
    }
   ],
   "source": [
    "number = float(input(\"Enter a number: \"))  \n",
    "\n",
    "if number > 0:\n",
    "    print(\"The number is positive.\")\n",
    "elif number < 0:\n",
    "    print(\"The number is negative.\")\n",
    "else:\n",
    "    print(\"The number is zero.\")\n"
   ]
  },
  {
   "cell_type": "code",
   "execution_count": null,
   "id": "58bd4789-6c93-4e7f-84f4-455429f7354a",
   "metadata": {},
   "outputs": [],
   "source": [
    "Exercise9: "
   ]
  },
  {
   "cell_type": "code",
   "execution_count": 20,
   "id": "a4300366-c7b9-40ec-bf26-9f91e6ccb54d",
   "metadata": {},
   "outputs": [
    {
     "name": "stdout",
     "output_type": "stream",
     "text": [
      "1\n",
      "2\n",
      "3\n",
      "4\n",
      "5\n"
     ]
    }
   ],
   "source": [
    "numbers = [1, 2, 3, 4, 5]\n",
    "\n",
    "for number in numbers:\n",
    "    print(number)"
   ]
  },
  {
   "cell_type": "code",
   "execution_count": null,
   "id": "c18223b8-799e-4d6c-9130-7239a201cefd",
   "metadata": {},
   "outputs": [],
   "source": [
    "Exercise10: "
   ]
  },
  {
   "cell_type": "code",
   "execution_count": 22,
   "id": "d5fb2459-1ec4-45fb-b0cc-2369ba139de4",
   "metadata": {},
   "outputs": [
    {
     "name": "stdout",
     "output_type": "stream",
     "text": [
      "1\n",
      "2\n",
      "3\n",
      "4\n",
      "5\n"
     ]
    }
   ],
   "source": [
    "i = 1\n",
    "\n",
    "while i <= 5:\n",
    "    print(i)\n",
    "    i += 1  \n"
   ]
  },
  {
   "cell_type": "code",
   "execution_count": null,
   "id": "3af72cae-308b-45c7-9d7b-073d3b66e082",
   "metadata": {},
   "outputs": [],
   "source": [
    "Exercise11: "
   ]
  },
  {
   "cell_type": "code",
   "execution_count": 24,
   "id": "2affba8a-6dc0-4179-818f-3afbb8b1db53",
   "metadata": {},
   "outputs": [
    {
     "name": "stdin",
     "output_type": "stream",
     "text": [
      "Enter a grade (A, B, C, D, or F):  A\n"
     ]
    },
    {
     "name": "stdout",
     "output_type": "stream",
     "text": [
      "Excellent!\n"
     ]
    }
   ],
   "source": [
    "grade = input(\"Enter a grade (A, B, C, D, or F): \").upper() \n",
    "\n",
    "match grade:\n",
    "    case \"A\":\n",
    "        print(\"Excellent!\")\n",
    "    case \"B\":\n",
    "        print(\"Good job!\")\n",
    "    case \"C\":\n",
    "        print(\"Fair.\")\n",
    "    case \"D\":\n",
    "        print(\"Needs improvement.\")\n",
    "    case \"F\":\n",
    "        print(\"Failing.\")\n",
    "    case _:\n",
    "        print(\"Invalid grade entered. Please enter A, B, C, D, or F.\")\n"
   ]
  },
  {
   "cell_type": "code",
   "execution_count": null,
   "id": "b7415003-52e0-461f-864b-bff8387cf70d",
   "metadata": {},
   "outputs": [],
   "source": [
    "Exercise12: "
   ]
  },
  {
   "cell_type": "code",
   "execution_count": 28,
   "id": "2f6aa912-4846-4753-b9bb-0343e4f45989",
   "metadata": {},
   "outputs": [
    {
     "name": "stdout",
     "output_type": "stream",
     "text": [
      "Hello, Xinyu Cui!\n"
     ]
    }
   ],
   "source": [
    "def greet(name):\n",
    "    print(f\"Hello, {name}!\")\n",
    "greet(\"Xinyu Cui\") \n"
   ]
  },
  {
   "cell_type": "code",
   "execution_count": null,
   "id": "ecb9a890-e4f4-4376-b93d-155476a78247",
   "metadata": {},
   "outputs": [],
   "source": [
    "Exercise13: "
   ]
  },
  {
   "cell_type": "code",
   "execution_count": 30,
   "id": "d60a5cab-ca13-40ac-a29a-d4e8cf99cf15",
   "metadata": {},
   "outputs": [
    {
     "name": "stdout",
     "output_type": "stream",
     "text": [
      "Square of 2: 4\n",
      "Square of 5: 25\n",
      "Square of 10: 100\n"
     ]
    }
   ],
   "source": [
    "def square(number):\n",
    "    return number * number\n",
    "\n",
    "print(\"Square of 2:\", square(2))\n",
    "print(\"Square of 5:\", square(5))\n",
    "print(\"Square of 10:\", square(10))"
   ]
  },
  {
   "cell_type": "code",
   "execution_count": null,
   "id": "5f019928-d86f-4184-9d22-155f665b24f6",
   "metadata": {},
   "outputs": [],
   "source": [
    "Exercise14: "
   ]
  },
  {
   "cell_type": "code",
   "execution_count": 32,
   "id": "ff750d28-4ff0-44cd-b52b-da900f54a489",
   "metadata": {},
   "outputs": [
    {
     "name": "stdout",
     "output_type": "stream",
     "text": [
      "Multiplying 5 and 3: 15\n",
      "Multiplying 7 (default for b is used): 7\n"
     ]
    }
   ],
   "source": [
    "def multiply(a, b=1):\n",
    "    return a * b\n",
    "\n",
    "print(\"Multiplying 5 and 3:\", multiply(5, 3)) \n",
    "print(\"Multiplying 7 (default for b is used):\", multiply(7))  \n"
   ]
  },
  {
   "cell_type": "code",
   "execution_count": null,
   "id": "ceeb4eb1-b56a-4694-a2d7-08a6cdba52c6",
   "metadata": {},
   "outputs": [],
   "source": [
    "Exercise15: "
   ]
  },
  {
   "cell_type": "code",
   "execution_count": 34,
   "id": "d05d8e5b-f807-489b-9f18-69503263737e",
   "metadata": {},
   "outputs": [
    {
     "name": "stdout",
     "output_type": "stream",
     "text": [
      "Squares of numbers from 1 to 10: [1, 4, 9, 16, 25, 36, 49, 64, 81, 100]\n"
     ]
    }
   ],
   "source": [
    "numbers = list(range(1, 11))  # List of numbers from 1 to 10\n",
    "squares = [number ** 2 for number in numbers]\n",
    "\n",
    "print(\"Squares of numbers from 1 to 10:\", squares)"
   ]
  },
  {
   "cell_type": "code",
   "execution_count": null,
   "id": "22c56da9-d109-4489-894f-e2ec3d2eb40b",
   "metadata": {},
   "outputs": [],
   "source": [
    "Exercise16: "
   ]
  },
  {
   "cell_type": "code",
   "execution_count": 36,
   "id": "00fec9ef-f194-4c9d-8e26-3a01ea2b0d87",
   "metadata": {},
   "outputs": [
    {
     "name": "stdout",
     "output_type": "stream",
     "text": [
      "Alice's average grade: 87.67\n",
      "Bob's average grade: 77.67\n",
      "Charlie's average grade: 90.67\n"
     ]
    }
   ],
   "source": [
    "students_grades = {\n",
    "    \"Alice\": [85, 90, 88],\n",
    "    \"Bob\": [78, 81, 74],\n",
    "    \"Charlie\": [92, 87, 93]\n",
    "}\n",
    "def print_average_grades(grades_dict):\n",
    "    for student, grades in grades_dict.items():\n",
    "        average = sum(grades) / len(grades)\n",
    "        print(f\"{student}'s average grade: {average:.2f}\")\n",
    "\n",
    "print_average_grades(students_grades)\n"
   ]
  },
  {
   "cell_type": "code",
   "execution_count": null,
   "id": "79f5bee8-ef65-4363-9576-92e700a9d42e",
   "metadata": {},
   "outputs": [],
   "source": [
    "Exercise17: "
   ]
  },
  {
   "cell_type": "code",
   "execution_count": 38,
   "id": "ef77832f-a585-41ea-953e-d2977719ed0e",
   "metadata": {},
   "outputs": [
    {
     "name": "stdin",
     "output_type": "stream",
     "text": [
      "Enter the first number:  1\n",
      "Enter the second number:  3\n",
      "Enter an operator (+, -, *, /):  +\n"
     ]
    },
    {
     "name": "stdout",
     "output_type": "stream",
     "text": [
      "The result of 1.0 + 3.0 is: 4.0\n"
     ]
    }
   ],
   "source": [
    "def calculate(num1, num2, operator):\n",
    "    if operator == \"+\":\n",
    "        return num1 + num2\n",
    "    elif operator == \"-\":\n",
    "        return num1 - num2\n",
    "    elif operator == \"*\":\n",
    "        return num1 * num2\n",
    "    elif operator == \"/\":\n",
    "        return num1 / num2\n",
    "    else:\n",
    "        return \"Invalid operator\"\n",
    "\n",
    "num1 = float(input(\"Enter the first number: \"))\n",
    "num2 = float(input(\"Enter the second number: \"))\n",
    "operator = input(\"Enter an operator (+, -, *, /): \")\n",
    "\n",
    "result = calculate(num1, num2, operator)\n",
    "print(f\"The result of {num1} {operator} {num2} is: {result}\")"
   ]
  },
  {
   "cell_type": "code",
   "execution_count": null,
   "id": "16a2c804-22d5-4307-84f6-4be11f8203c7",
   "metadata": {},
   "outputs": [],
   "source": []
  }
 ],
 "metadata": {
  "kernelspec": {
   "display_name": "Python 3 (ipykernel)",
   "language": "python",
   "name": "python3"
  },
  "language_info": {
   "codemirror_mode": {
    "name": "ipython",
    "version": 3
   },
   "file_extension": ".py",
   "mimetype": "text/x-python",
   "name": "python",
   "nbconvert_exporter": "python",
   "pygments_lexer": "ipython3",
   "version": "3.12.4"
  }
 },
 "nbformat": 4,
 "nbformat_minor": 5
}
