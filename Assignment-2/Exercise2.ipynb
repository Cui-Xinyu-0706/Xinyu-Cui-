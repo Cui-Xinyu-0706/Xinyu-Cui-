{
 "cells": [
  {
   "cell_type": "code",
   "execution_count": 4,
   "id": "4c02635a-9f5b-40dd-aacf-825d109bca9b",
   "metadata": {},
   "outputs": [
    {
     "name": "stdout",
     "output_type": "stream",
     "text": [
      "[10, 42, 100, 99]\n"
     ]
    }
   ],
   "source": [
    "mixed_list = [10, 'apple', 3.14, 42, 'banana', 7.8, 100, 'orange', 99]\n",
    "\n",
    "integer_list = [item for item in mixed_list if isinstance(item, int)]\n",
    "print(integer_list)\n"
   ]
  },
  {
   "cell_type": "code",
   "execution_count": null,
   "id": "75d59461-3a1c-4d5e-a3db-9ed8be56d8dd",
   "metadata": {},
   "outputs": [],
   "source": []
  }
 ],
 "metadata": {
  "kernelspec": {
   "display_name": "Python 3 (ipykernel)",
   "language": "python",
   "name": "python3"
  },
  "language_info": {
   "codemirror_mode": {
    "name": "ipython",
    "version": 3
   },
   "file_extension": ".py",
   "mimetype": "text/x-python",
   "name": "python",
   "nbconvert_exporter": "python",
   "pygments_lexer": "ipython3",
   "version": "3.12.4"
  }
 },
 "nbformat": 4,
 "nbformat_minor": 5
}
