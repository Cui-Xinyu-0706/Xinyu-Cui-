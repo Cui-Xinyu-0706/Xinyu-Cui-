{
 "cells": [
  {
   "cell_type": "code",
   "execution_count": 9,
   "id": "d0198450-c5d9-4379-bc16-31035962c886",
   "metadata": {},
   "outputs": [
    {
     "data": {
      "text/plain": [
       "['20240102_185527_SN27_QUICKVIEW_VISUAL_1_1_10_SATL-2KM-11N_740_3850.txt',\n",
       " '20240623_193704_SN27_QUICKVIEW_VISUAL_1_7_0_SATL-2KM-11N_566_3734.txt',\n",
       " '20240402_184757_SN24_QUICKVIEW_VISUAL_1_2_0_SATL-2KM-11N_488_3638.txt',\n",
       " '20240423_190101_SN26_QUICKVIEW_VISUAL_1_5_0_SATL-2KM-11N_418_3872.txt',\n",
       " '20240201_075140_SN26_QUICKVIEW_VISUAL_1_1_10_SATL-2KM-39N_558_2794.txt']"
      ]
     },
     "execution_count": 9,
     "metadata": {},
     "output_type": "execute_result"
    }
   ],
   "source": [
    "import zipfile\n",
    "import os\n",
    "\n",
    "# Path to the uploaded ZIP file\n",
    "zip_path = '/Users/cuiixinyu/Downloads/session_4.zip'\n",
    "extract_path = '/Users/cuiixinyu/Downloads/session_4_extracted/'\n",
    "\n",
    "# Extract the ZIP file\n",
    "with zipfile.ZipFile(zip_path, 'r') as zip_ref:\n",
    "    zip_ref.extractall(extract_path)\n",
    "\n",
    "# List the extracted files to examine the structure\n",
    "extracted_files = os.listdir(extract_path)\n",
    "extracted_files\n",
    "# List contents within the \"session_4\" directory to explore further\n",
    "session_4_path = os.path.join(extract_path, 'session_4')\n",
    "session_4_files = os.listdir(session_4_path)\n",
    "session_4_files\n",
    "# Path to the annotations folder\n",
    "annotations_path = os.path.join(session_4_path, 'annotations')\n",
    "annotation_files = os.listdir(annotations_path)\n",
    "\n",
    "# Filter out any hidden or system files if present\n",
    "annotation_files = [file for file in annotation_files if not file.startswith('.')]\n",
    "annotation_files[:5]  # Display a sample of the annotation files for an initial check\n"
   ]
  },
  {
   "cell_type": "code",
   "execution_count": 10,
   "id": "88ef935f-0fad-4baf-aff0-d4c057e6e792",
   "metadata": {},
   "outputs": [
    {
     "data": {
      "text/plain": [
       "('2024-06', 52)"
      ]
     },
     "execution_count": 10,
     "metadata": {},
     "output_type": "execute_result"
    }
   ],
   "source": [
    "1.\n",
    "# Let's inspect a few files to confirm the content format\n",
    "sample_file_path = os.path.join(annotations_path, annotation_files[0])\n",
    "\n",
    "# Read the content of one file as a sample\n",
    "with open(sample_file_path, 'r') as file:\n",
    "    sample_content = file.read()\n",
    "\n",
    "# Display the content of the sample file to understand its structure\n",
    "sample_content[:500]  \n",
    "from datetime import datetime\n",
    "import re\n",
    "from collections import defaultdict\n",
    "import json\n",
    "import pickle\n",
    "\n",
    "# Task 1: Count annotations by month and year, and identify the month with the most annotations\n",
    "annotations_by_month_year = defaultdict(int)\n",
    "\n",
    "# Extract year and month from filenames\n",
    "date_pattern = re.compile(r'(\\d{4})(\\d{2})(\\d{2})')  # Pattern to match YYYYMMDD\n",
    "\n",
    "# Dictionary to hold lists of annotation names per month for Task 2\n",
    "annotations_by_month = defaultdict(list)\n",
    "\n",
    "# Dictionary to hold dictionaries with 'name' and 'date' for each annotation per month (part of Task 2)\n",
    "annotations_detailed_by_month = defaultdict(list)\n",
    "\n",
    "for file_name in annotation_files:\n",
    "    # Extract date from the filename\n",
    "    match = date_pattern.search(file_name)\n",
    "    if match:\n",
    "        year, month, day = match.groups()\n",
    "        date_key = f\"{year}-{month}\"\n",
    "        \n",
    "        # Update counts for annotations per month-year\n",
    "        annotations_by_month_year[date_key] += 1\n",
    "\n",
    "        # Append the annotation name to the corresponding month in annotations_by_month\n",
    "        annotations_by_month[month].append(file_name)\n",
    "\n",
    "        # Create a dictionary with 'name' and 'date' (datetime object) for each annotation\n",
    "        annotation_date = datetime.strptime(f\"{year}-{month}-{day}\", \"%Y-%m-%d\")\n",
    "        annotations_detailed_by_month[month].append({\n",
    "            \"name\": file_name,\n",
    "            \"date\": annotation_date\n",
    "        })\n",
    "\n",
    "# Find the month with the most annotations\n",
    "most_annotations_month = max(annotations_by_month_year, key=annotations_by_month_year.get)\n",
    "most_annotations_month, annotations_by_month_year[most_annotations_month]\n"
   ]
  },
  {
   "cell_type": "code",
   "execution_count": 11,
   "id": "c282b56e-6e5b-4636-ab9b-5697ed08abe5",
   "metadata": {},
   "outputs": [
    {
     "data": {
      "text/plain": [
       "True"
      ]
     },
     "execution_count": 11,
     "metadata": {},
     "output_type": "execute_result"
    }
   ],
   "source": [
    "2.\n",
    "# File path for saving the JSON\n",
    "json_file_path = '/Users/cuiixinyu/Downloads/annotations_by_month.json'\n",
    "\n",
    "\n",
    "# Save to JSON format\n",
    "with open(json_file_path, 'w') as json_file:\n",
    "    json.dump(annotations_by_month, json_file)\n",
    "\n",
    "# Load the JSON to verify\n",
    "with open(json_file_path, 'r') as json_file:\n",
    "    loaded_annotations_by_month = json.load(json_file)\n",
    "\n",
    "# Check if the loaded JSON matches the original\n",
    "json_verified = loaded_annotations_by_month == annotations_by_month\n",
    "\n",
    "json_verified\n"
   ]
  },
  {
   "cell_type": "code",
   "execution_count": 12,
   "id": "a7479ef9-c80d-4c20-bf9b-d7fdac2aac15",
   "metadata": {},
   "outputs": [
    {
     "data": {
      "text/plain": [
       "True"
      ]
     },
     "execution_count": 12,
     "metadata": {},
     "output_type": "execute_result"
    }
   ],
   "source": [
    "2.\n",
    "# File path for saving the Pickle\n",
    "pickle_file_path = '/Users/cuiixinyu/Downloads/annotations_by_month.pkl'\n",
    "\n",
    "\n",
    "# Save to Pickle format\n",
    "with open(pickle_file_path, 'wb') as pickle_file:\n",
    "    pickle.dump(annotations_by_month, pickle_file)\n",
    "\n",
    "# Load the Pickle to verify\n",
    "with open(pickle_file_path, 'rb') as pickle_file:\n",
    "    loaded_annotations_by_month_pickle = pickle.load(pickle_file)\n",
    "\n",
    "# Check if the loaded Pickle matches the original\n",
    "pickle_verified = loaded_annotations_by_month_pickle == annotations_by_month\n",
    "\n",
    "# Output whether the pickle verification was successful\n",
    "pickle_verified\n"
   ]
  },
  {
   "cell_type": "code",
   "execution_count": 15,
   "id": "249b9f1f-0a7c-49b0-9669-09ec704afdcb",
   "metadata": {},
   "outputs": [
    {
     "data": {
      "text/plain": [
       "('/Users/cuiixinyu/Downloads/annotations_by_month.json',\n",
       " '/Users/cuiixinyu/Downloads/annotations_detailed_by_month.pkl')"
      ]
     },
     "execution_count": 15,
     "metadata": {},
     "output_type": "execute_result"
    }
   ],
   "source": [
    "2.\n",
    "import os\n",
    "import json\n",
    "import pickle\n",
    "from datetime import datetime\n",
    "\n",
    "# Define the annotations dictionary with month-wise data\n",
    "annotations_detailed_by_month = {\n",
    "    \"January\": [{\"name\": \"Event1\", \"date\": datetime(2024, 1, 15)}],\n",
    "    \"February\": [{\"name\": \"Event2\", \"date\": datetime(2024, 2, 10)}],\n",
    "    # Add more months and events as needed\n",
    "}\n",
    "\n",
    "# Updated dictionary to store the detailed structure\n",
    "annotations_detailed_by_month_json_ready = {\n",
    "    month: [{\"name\": entry[\"name\"], \"date\": entry[\"date\"].isoformat()} for entry in entries]\n",
    "    for month, entries in annotations_detailed_by_month.items()\n",
    "}\n",
    "\n",
    "# Define paths for saving JSON and Pickle files\n",
    "json_detailed_file_path = '/Users/cuiixinyu/Downloads/annotations_by_month.json'\n",
    "pickle_detailed_file_path = '/Users/cuiixinyu/Downloads/annotations_detailed_by_month.pkl'\n",
    "\n",
    "# Saving the JSON file\n",
    "with open(json_detailed_file_path, 'w') as json_detailed_file:\n",
    "    json.dump(annotations_detailed_by_month_json_ready, json_detailed_file)\n",
    "\n",
    "# Saving the Pickle file\n",
    "with open(pickle_detailed_file_path, 'wb') as pickle_detailed_file:\n",
    "    pickle.dump(annotations_detailed_by_month, pickle_detailed_file)\n",
    "\n",
    "# Output file paths to confirm locations\n",
    "json_detailed_file_path, pickle_detailed_file_path\n"
   ]
  },
  {
   "cell_type": "code",
   "execution_count": 44,
   "id": "3a0676f9-6739-4d15-8cad-9c6cec8f4492",
   "metadata": {},
   "outputs": [
    {
     "data": {
      "text/plain": [
       "[]"
      ]
     },
     "execution_count": 44,
     "metadata": {},
     "output_type": "execute_result"
    }
   ],
   "source": [
    "3.\n",
    "\n",
    "# Filter for second half of 2024 (July to December) annotations and sort by date\n",
    "second_half_2024_annotations = [\n",
    "    entry for month, entries in annotations_detailed_by_month.items()\n",
    "    for entry in entries if entry[\"date\"].year == 2024 and entry[\"date\"].month >= 7\n",
    "]\n",
    "\n",
    "# Sort annotations by date in ascending order\n",
    "second_half_2024_annotations_sorted = sorted(second_half_2024_annotations, key=lambda x: x[\"date\"])\n",
    "\n",
    "# Display results to the user\n",
    "second_half_2024_annotations_sorted[:10]  # Show a sample of the first 10 sorted annotations\n"
   ]
  },
  {
   "cell_type": "code",
   "execution_count": null,
   "id": "2beafe26-6fef-4927-9a37-1b8fad37b860",
   "metadata": {},
   "outputs": [],
   "source": []
  }
 ],
 "metadata": {
  "kernelspec": {
   "display_name": "base",
   "language": "python",
   "name": "python3"
  },
  "language_info": {
   "codemirror_mode": {
    "name": "ipython",
    "version": 3
   },
   "file_extension": ".py",
   "mimetype": "text/x-python",
   "name": "python",
   "nbconvert_exporter": "python",
   "pygments_lexer": "ipython3",
   "version": "3.12.4"
  }
 },
 "nbformat": 4,
 "nbformat_minor": 5
}
