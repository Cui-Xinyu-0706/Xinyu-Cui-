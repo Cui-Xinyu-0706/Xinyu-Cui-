{
 "cells": [
  {
   "cell_type": "code",
   "execution_count": 32,
   "id": "d0198450-c5d9-4379-bc16-31035962c886",
   "metadata": {},
   "outputs": [
    {
     "data": {
      "text/plain": [
       "['20240102_185527_SN27_QUICKVIEW_VISUAL_1_1_10_SATL-2KM-11N_740_3850.txt',\n",
       " '20240623_193704_SN27_QUICKVIEW_VISUAL_1_7_0_SATL-2KM-11N_566_3734.txt',\n",
       " '20240402_184757_SN24_QUICKVIEW_VISUAL_1_2_0_SATL-2KM-11N_488_3638.txt',\n",
       " '20240423_190101_SN26_QUICKVIEW_VISUAL_1_5_0_SATL-2KM-11N_418_3872.txt',\n",
       " '20240201_075140_SN26_QUICKVIEW_VISUAL_1_1_10_SATL-2KM-39N_558_2794.txt']"
      ]
     },
     "execution_count": 32,
     "metadata": {},
     "output_type": "execute_result"
    }
   ],
   "source": [
    "import zipfile\n",
    "import os\n",
    "\n",
    "# Path to the uploaded ZIP file\n",
    "zip_path = '/Users/cuiixinyu/Downloads/session_4.zip'\n",
    "extract_path = '/Users/cuiixinyu/Downloads/session_4_extracted/'\n",
    "\n",
    "# Extract the ZIP file\n",
    "with zipfile.ZipFile(zip_path, 'r') as zip_ref:\n",
    "    zip_ref.extractall(extract_path)\n",
    "\n",
    "# List the extracted files to examine the structure\n",
    "extracted_files = os.listdir(extract_path)\n",
    "extracted_files\n",
    "# List contents within the \"session_4\" directory to explore further\n",
    "session_4_path = os.path.join(extract_path, 'session_4')\n",
    "session_4_files = os.listdir(session_4_path)\n",
    "session_4_files\n",
    "# Path to the annotations folder\n",
    "annotations_path = os.path.join(session_4_path, 'annotations')\n",
    "annotation_files = os.listdir(annotations_path)\n",
    "\n",
    "# Filter out any hidden or system files if present\n",
    "annotation_files = [file for file in annotation_files if not file.startswith('.')]\n",
    "annotation_files[:5]  # Display a sample of the annotation files for an initial check\n"
   ]
  },
  {
   "cell_type": "code",
   "execution_count": 34,
   "id": "88ef935f-0fad-4baf-aff0-d4c057e6e792",
   "metadata": {},
   "outputs": [
    {
     "data": {
      "text/plain": [
       "('2024-06', 52)"
      ]
     },
     "execution_count": 34,
     "metadata": {},
     "output_type": "execute_result"
    }
   ],
   "source": [
    "1.\n",
    "# Let's inspect a few files to confirm the content format\n",
    "sample_file_path = os.path.join(annotations_path, annotation_files[0])\n",
    "\n",
    "# Read the content of one file as a sample\n",
    "with open(sample_file_path, 'r') as file:\n",
    "    sample_content = file.read()\n",
    "\n",
    "# Display the content of the sample file to understand its structure\n",
    "sample_content[:500]  \n",
    "from datetime import datetime\n",
    "import re\n",
    "from collections import defaultdict\n",
    "import json\n",
    "import pickle\n",
    "\n",
    "# Task 1: Count annotations by month and year, and identify the month with the most annotations\n",
    "annotations_by_month_year = defaultdict(int)\n",
    "\n",
    "# Extract year and month from filenames\n",
    "date_pattern = re.compile(r'(\\d{4})(\\d{2})(\\d{2})')  # Pattern to match YYYYMMDD\n",
    "\n",
    "# Dictionary to hold lists of annotation names per month for Task 2\n",
    "annotations_by_month = defaultdict(list)\n",
    "\n",
    "# Dictionary to hold dictionaries with 'name' and 'date' for each annotation per month (part of Task 2)\n",
    "annotations_detailed_by_month = defaultdict(list)\n",
    "\n",
    "for file_name in annotation_files:\n",
    "    # Extract date from the filename\n",
    "    match = date_pattern.search(file_name)\n",
    "    if match:\n",
    "        year, month, day = match.groups()\n",
    "        date_key = f\"{year}-{month}\"\n",
    "        \n",
    "        # Update counts for annotations per month-year\n",
    "        annotations_by_month_year[date_key] += 1\n",
    "\n",
    "        # Append the annotation name to the corresponding month in annotations_by_month\n",
    "        annotations_by_month[month].append(file_name)\n",
    "\n",
    "        # Create a dictionary with 'name' and 'date' (datetime object) for each annotation\n",
    "        annotation_date = datetime.strptime(f\"{year}-{month}-{day}\", \"%Y-%m-%d\")\n",
    "        annotations_detailed_by_month[month].append({\n",
    "            \"name\": file_name,\n",
    "            \"date\": annotation_date\n",
    "        })\n",
    "\n",
    "# Find the month with the most annotations\n",
    "most_annotations_month = max(annotations_by_month_year, key=annotations_by_month_year.get)\n",
    "most_annotations_month, annotations_by_month_year[most_annotations_month]\n"
   ]
  },
  {
   "cell_type": "code",
   "execution_count": 38,
   "id": "c282b56e-6e5b-4636-ab9b-5697ed08abe5",
   "metadata": {},
   "outputs": [
    {
     "data": {
      "text/plain": [
       "True"
      ]
     },
     "execution_count": 38,
     "metadata": {},
     "output_type": "execute_result"
    }
   ],
   "source": [
    "2.\n",
    "# File path for saving the JSON\n",
    "json_file_path = '/Users/cuiixinyu/Downloads/annotations_by_month.json'\n",
    "\n",
    "\n",
    "# Save to JSON format\n",
    "with open(json_file_path, 'w') as json_file:\n",
    "    json.dump(annotations_by_month, json_file)\n",
    "\n",
    "# Load the JSON to verify\n",
    "with open(json_file_path, 'r') as json_file:\n",
    "    loaded_annotations_by_month = json.load(json_file)\n",
    "\n",
    "# Check if the loaded JSON matches the original\n",
    "json_verified = loaded_annotations_by_month == annotations_by_month\n",
    "\n",
    "json_verified\n"
   ]
  },
  {
   "cell_type": "code",
   "execution_count": 42,
   "id": "a7479ef9-c80d-4c20-bf9b-d7fdac2aac15",
   "metadata": {},
   "outputs": [
    {
     "data": {
      "text/plain": [
       "True"
      ]
     },
     "execution_count": 42,
     "metadata": {},
     "output_type": "execute_result"
    }
   ],
   "source": [
    "2.\n",
    "# File path for saving the Pickle\n",
    "pickle_file_path = '/Users/cuiixinyu/Downloads/annotations_by_month.pkl'\n",
    "\n",
    "\n",
    "# Save to Pickle format\n",
    "with open(pickle_file_path, 'wb') as pickle_file:\n",
    "    pickle.dump(annotations_by_month, pickle_file)\n",
    "\n",
    "# Load the Pickle to verify\n",
    "with open(pickle_file_path, 'rb') as pickle_file:\n",
    "    loaded_annotations_by_month_pickle = pickle.load(pickle_file)\n",
    "\n",
    "# Check if the loaded Pickle matches the original\n",
    "pickle_verified = loaded_annotations_by_month_pickle == annotations_by_month\n",
    "\n",
    "# Output whether the pickle verification was successful\n",
    "pickle_verified\n"
   ]
  },
  {
   "cell_type": "code",
   "execution_count": 46,
   "id": "249b9f1f-0a7c-49b0-9669-09ec704afdcb",
   "metadata": {},
   "outputs": [
    {
     "ename": "FileNotFoundError",
     "evalue": "[Errno 2] No such file or directory: '/mnt/data/annotations_detailed_by_month.json'",
     "output_type": "error",
     "traceback": [
      "\u001b[0;31m---------------------------------------------------------------------------\u001b[0m",
      "\u001b[0;31mFileNotFoundError\u001b[0m                         Traceback (most recent call last)",
      "Cell \u001b[0;32mIn[46], line 13\u001b[0m\n\u001b[1;32m     10\u001b[0m pickle_detailed_file_path \u001b[38;5;241m=\u001b[39m \u001b[38;5;124m'\u001b[39m\u001b[38;5;124m/mnt/data/annotations_detailed_by_month.pkl\u001b[39m\u001b[38;5;124m'\u001b[39m\n\u001b[1;32m     12\u001b[0m \u001b[38;5;66;03m# Saving the JSON file\u001b[39;00m\n\u001b[0;32m---> 13\u001b[0m \u001b[38;5;28;01mwith\u001b[39;00m \u001b[38;5;28mopen\u001b[39m(json_detailed_file_path, \u001b[38;5;124m'\u001b[39m\u001b[38;5;124mw\u001b[39m\u001b[38;5;124m'\u001b[39m) \u001b[38;5;28;01mas\u001b[39;00m json_detailed_file:\n\u001b[1;32m     14\u001b[0m     json\u001b[38;5;241m.\u001b[39mdump(annotations_detailed_by_month_json_ready, json_detailed_file)\n\u001b[1;32m     16\u001b[0m \u001b[38;5;66;03m# Saving the Pickle file\u001b[39;00m\n",
      "File \u001b[0;32m/opt/anaconda3/lib/python3.12/site-packages/IPython/core/interactiveshell.py:324\u001b[0m, in \u001b[0;36m_modified_open\u001b[0;34m(file, *args, **kwargs)\u001b[0m\n\u001b[1;32m    317\u001b[0m \u001b[38;5;28;01mif\u001b[39;00m file \u001b[38;5;129;01min\u001b[39;00m {\u001b[38;5;241m0\u001b[39m, \u001b[38;5;241m1\u001b[39m, \u001b[38;5;241m2\u001b[39m}:\n\u001b[1;32m    318\u001b[0m     \u001b[38;5;28;01mraise\u001b[39;00m \u001b[38;5;167;01mValueError\u001b[39;00m(\n\u001b[1;32m    319\u001b[0m         \u001b[38;5;124mf\u001b[39m\u001b[38;5;124m\"\u001b[39m\u001b[38;5;124mIPython won\u001b[39m\u001b[38;5;124m'\u001b[39m\u001b[38;5;124mt let you open fd=\u001b[39m\u001b[38;5;132;01m{\u001b[39;00mfile\u001b[38;5;132;01m}\u001b[39;00m\u001b[38;5;124m by default \u001b[39m\u001b[38;5;124m\"\u001b[39m\n\u001b[1;32m    320\u001b[0m         \u001b[38;5;124m\"\u001b[39m\u001b[38;5;124mas it is likely to crash IPython. If you know what you are doing, \u001b[39m\u001b[38;5;124m\"\u001b[39m\n\u001b[1;32m    321\u001b[0m         \u001b[38;5;124m\"\u001b[39m\u001b[38;5;124myou can use builtins\u001b[39m\u001b[38;5;124m'\u001b[39m\u001b[38;5;124m open.\u001b[39m\u001b[38;5;124m\"\u001b[39m\n\u001b[1;32m    322\u001b[0m     )\n\u001b[0;32m--> 324\u001b[0m \u001b[38;5;28;01mreturn\u001b[39;00m io_open(file, \u001b[38;5;241m*\u001b[39margs, \u001b[38;5;241m*\u001b[39m\u001b[38;5;241m*\u001b[39mkwargs)\n",
      "\u001b[0;31mFileNotFoundError\u001b[0m: [Errno 2] No such file or directory: '/mnt/data/annotations_detailed_by_month.json'"
     ]
    }
   ],
   "source": [
    "2.\n",
    "# Updated dictionary to store the detailed structure\n",
    "annotations_detailed_by_month_json_ready = {\n",
    "    month: [{\"name\": entry[\"name\"], \"date\": entry[\"date\"].isoformat()} for entry in entries]\n",
    "    for month, entries in annotations_detailed_by_month.items()\n",
    "}\n",
    "\n",
    "# Define new paths for saving the JSON and Pickle with this detailed structure\n",
    "json_detailed_file_path = '/Users/cuiixinyu/Downloads/annotations_by_month.json'\n",
    "pickle_detailed_file_path = '/mnt/data/annotations_detailed_by_month.pkl'\n",
    "\n",
    "# Saving the JSON file\n",
    "with open(json_detailed_file_path, 'w') as json_detailed_file:\n",
    "    json.dump(annotations_detailed_by_month_json_ready, json_detailed_file)\n",
    "\n",
    "# Saving the Pickle file\n",
    "with open(pickle_detailed_file_path, 'wb') as pickle_detailed_file:\n",
    "    pickle.dump(annotations_detailed_by_month, pickle_detailed_file)\n",
    "\n",
    "json_detailed_file_path, pickle_detailed_file_path\n"
   ]
  },
  {
   "cell_type": "code",
   "execution_count": 44,
   "id": "3a0676f9-6739-4d15-8cad-9c6cec8f4492",
   "metadata": {},
   "outputs": [
    {
     "data": {
      "text/plain": [
       "[]"
      ]
     },
     "execution_count": 44,
     "metadata": {},
     "output_type": "execute_result"
    }
   ],
   "source": [
    "3.\n",
    "\n",
    "# Filter for second half of 2024 (July to December) annotations and sort by date\n",
    "second_half_2024_annotations = [\n",
    "    entry for month, entries in annotations_detailed_by_month.items()\n",
    "    for entry in entries if entry[\"date\"].year == 2024 and entry[\"date\"].month >= 7\n",
    "]\n",
    "\n",
    "# Sort annotations by date in ascending order\n",
    "second_half_2024_annotations_sorted = sorted(second_half_2024_annotations, key=lambda x: x[\"date\"])\n",
    "\n",
    "# Display results to the user\n",
    "second_half_2024_annotations_sorted[:10]  # Show a sample of the first 10 sorted annotations\n"
   ]
  },
  {
   "cell_type": "code",
   "execution_count": null,
   "id": "2beafe26-6fef-4927-9a37-1b8fad37b860",
   "metadata": {},
   "outputs": [],
   "source": []
  }
 ],
 "metadata": {
  "kernelspec": {
   "display_name": "Python 3 (ipykernel)",
   "language": "python",
   "name": "python3"
  },
  "language_info": {
   "codemirror_mode": {
    "name": "ipython",
    "version": 3
   },
   "file_extension": ".py",
   "mimetype": "text/x-python",
   "name": "python",
   "nbconvert_exporter": "python",
   "pygments_lexer": "ipython3",
   "version": "3.12.4"
  }
 },
 "nbformat": 4,
 "nbformat_minor": 5
}
