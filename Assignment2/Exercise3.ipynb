{
 "cells": [
  {
   "cell_type": "code",
   "execution_count": 1,
   "id": "b66b63e7-3786-4c02-bf62-c8b34c6b92ed",
   "metadata": {},
   "outputs": [],
   "source": [
    "todo_list = []\n",
    "\n",
    "def add_task(task):\n",
    "    todo_list.append(task)\n",
    "    print(f'Task \"{task}\" added to the list.')\n",
    "\n",
    "def show_tasks():\n",
    "    if todo_list:\n",
    "        print(\"Your To-Do List:\")\n",
    "        for idx, task in enumerate(todo_list, 1):\n",
    "            print(f\"{idx}. {task}\")\n",
    "    else:\n",
    "        print(\"Your To-Do List is empty.\")\n"
   ]
  },
  {
   "cell_type": "code",
   "execution_count": null,
   "id": "e170fc76-13aa-49b6-8f73-beaf4e5cd965",
   "metadata": {},
   "outputs": [],
   "source": []
  }
 ],
 "metadata": {
  "kernelspec": {
   "display_name": "Python 3 (ipykernel)",
   "language": "python",
   "name": "python3"
  },
  "language_info": {
   "codemirror_mode": {
    "name": "ipython",
    "version": 3
   },
   "file_extension": ".py",
   "mimetype": "text/x-python",
   "name": "python",
   "nbconvert_exporter": "python",
   "pygments_lexer": "ipython3",
   "version": "3.12.4"
  }
 },
 "nbformat": 4,
 "nbformat_minor": 5
}
